{
 "cells": [
  {
   "cell_type": "code",
   "execution_count": 1,
   "metadata": {},
   "outputs": [],
   "source": [
    "from PIL import Image\n",
    "import numpy as np\n",
    "import pandas as pd\n",
    "import json"
   ]
  },
  {
   "cell_type": "code",
   "execution_count": null,
   "metadata": {},
   "outputs": [],
   "source": [
    "def getTopicColorList(theme = \"bremm\", colorrange = [-46, 46]):\n",
    "    \"\"\"Get topic color dara for stream graph\n",
    "    Args:\n",
    "    :theme: the name of the png file inside of colormaps folder\n",
    "    :colorrange: the range of the topic embedding, sample input: [-46, 46]\n",
    "    \"\"\"\n",
    "    # load the img as specified as 'theme'\n",
    "    im = Image.open('../public/assets/colormaps/' + theme + '.png') \n",
    "    pix = im.load()\n",
    "\n",
    "    # read the topic embeddings\n",
    "    f = open(\"Vis_data/topic_embeddings_over_time.json\")\n",
    "    topic_embeddings = json.load(f) \n",
    "    topic_colors = []\n",
    "    for data in topic_embeddings['topic_embeddings']:\n",
    "        emb = np.array(data['embedding'])\n",
    "        emb[:, 0] = (((emb[:, 0] + 1) - (colorrange[0] + 1)) / ((colorrange[1] + 1) - (colorrange[0] + 1))) * (im.size[0] - 1)\n",
    "        emb[:, 1] = (((emb[:, 1] + 1) - (colorrange[0] + 1)) / ((colorrange[1] + 1) - (colorrange[0] + 1))) * (im.size[0] - 1)\n",
    "        for point in emb:\n",
    "            r, g, b = pix[point[0], point[1]]\n",
    "            topic_colors.append(\"rgb(\" + str(r) + \", \" + str(g) + \", \" + str(b) + \")\")\n",
    "\n",
    "    output = {'topic_colors': topic_colors}\n",
    "\n",
    "    # Serializing json \n",
    "    json_object = json.dumps(output, indent = 1)\n",
    "    \n",
    "    # Writing to sample.json\n",
    "    with open(\"Vis_data/topic_colors.json\", \"w\") as outfile:\n",
    "        outfile.write(json_object)"
   ]
  },
  {
   "cell_type": "code",
   "execution_count": 2,
   "metadata": {},
   "outputs": [],
   "source": [
    "def getTopicColorList1(theme = \"bremm\", colorrange = [-69, 79], num_topics = 14):\n",
    "    \"\"\"Get topic color dara for stream graph\n",
    "    Args:\n",
    "    :theme: the name of the png file inside of colormaps folder\n",
    "    :colorrange: the range of the topic embedding, sample input: [-69, 79]\n",
    "    \"\"\"\n",
    "    # load the img as specified as 'theme'\n",
    "    im = Image.open('../public/assets/' + theme + '.png') \n",
    "    pix = im.load()\n",
    "\n",
    "    # read the topic embeddings\n",
    "    f = open(\"Vis_data/topic_embeddings_over_time.json\")\n",
    "    topic_embeddings = json.load(f) # range -69 ~ 79\n",
    "    topic_colors = dict()\n",
    "    for i in range(num_topics):\n",
    "        topic_colors[i] = []\n",
    "    for data in topic_embeddings['topic_embeddings']:\n",
    "        emb = np.array(data['embedding'])\n",
    "        emb[:, 0] = (((emb[:, 0] + 1) - (colorrange[0] + 1)) / ((colorrange[1] + 1) - (colorrange[0] + 1))) * (im.size[0] - 1)\n",
    "        emb[:, 1] = (((emb[:, 1] + 1) - (colorrange[0] + 1)) / ((colorrange[1] + 1) - (colorrange[0] + 1))) * (im.size[0] - 1)\n",
    "        for i, point in enumerate(emb):\n",
    "            r, g, b = pix[point[0], point[1]]\n",
    "            topic_colors[i].append(\"rgb(\" + str(r) + \", \" + str(g) + \", \" + str(b) + \")\")\n",
    "\n",
    "    # Serializing json \n",
    "    json_object = json.dumps(topic_colors, indent = 1)\n",
    "    \n",
    "    # Writing to sample.json\n",
    "    with open(\"Vis_data/topic_colors_stream.json\", \"w\") as outfile:\n",
    "        outfile.write(json_object)"
   ]
  },
  {
   "cell_type": "code",
   "execution_count": 3,
   "metadata": {},
   "outputs": [],
   "source": [
    "getTopicColorList1(theme = \"bremm\", colorrange = [-46, 46], num_topics = 8)"
   ]
  },
  {
   "cell_type": "code",
   "execution_count": 7,
   "metadata": {},
   "outputs": [],
   "source": [
    "def getTopicColorTree(theme = \"bremm\", colorrange = [-69, 79]):\n",
    "    \"\"\"Get topic color dara for the tree map  --> separate by year\n",
    "    Args:\n",
    "    :theme: the name of the png file inside of colormaps folder\n",
    "    :colorrange: the range of the topic embedding, sample input: [-69, 79]\n",
    "    \"\"\"\n",
    "    # load the img as specified as 'theme'\n",
    "    im = Image.open('../public/assets/' + theme + '.png') \n",
    "    pix = im.load()\n",
    "\n",
    "    # read the topic embeddings\n",
    "    f = open(\"Vis_data/topic_embeddings_over_time.json\")\n",
    "    topic_embeddings = json.load(f) # range -69 ~ 79\n",
    "    topic_colors = dict()\n",
    "    for data in topic_embeddings['topic_embeddings']:\n",
    "        topic_colors[data[\"year\"]] = [] \n",
    "        emb = np.array(data['embedding'])\n",
    "        emb[:, 0] = (((emb[:, 0] + 1) - (colorrange[0] + 1)) / ((colorrange[1] + 1) - (colorrange[0] + 1))) * (im.size[0] - 1)\n",
    "        emb[:, 1] = (((emb[:, 1] + 1) - (colorrange[0] + 1)) / ((colorrange[1] + 1) - (colorrange[0] + 1))) * (im.size[0] - 1)\n",
    "        for point in emb:\n",
    "            r, g, b = pix[point[0], point[1]]\n",
    "            topic_colors[data[\"year\"]].append(\"rgb(\" + str(r) + \", \" + str(g) + \", \" + str(b) + \")\")\n",
    "\n",
    "    # Serializing json \n",
    "    json_object = json.dumps(topic_colors, indent = 1)\n",
    "    \n",
    "    # Writing to sample.json\n",
    "    with open(\"Vis_data/topic_colors_for_tree.json\", \"w\") as outfile:\n",
    "        outfile.write(json_object)"
   ]
  },
  {
   "cell_type": "code",
   "execution_count": 8,
   "metadata": {},
   "outputs": [],
   "source": [
    "getTopicColorTree(theme = \"bremm\", colorrange = [-46, 46])"
   ]
  }
 ],
 "metadata": {
  "interpreter": {
   "hash": "7c3de026aa0deba29f587c3b3fdc98c8d52b1123a61c41868ecd1d17bda52b85"
  },
  "kernelspec": {
   "display_name": "Python 3.9.7 ('base')",
   "language": "python",
   "name": "python3"
  },
  "language_info": {
   "codemirror_mode": {
    "name": "ipython",
    "version": 3
   },
   "file_extension": ".py",
   "mimetype": "text/x-python",
   "name": "python",
   "nbconvert_exporter": "python",
   "pygments_lexer": "ipython3",
   "version": "3.9.7"
  },
  "orig_nbformat": 4
 },
 "nbformat": 4,
 "nbformat_minor": 2
}
