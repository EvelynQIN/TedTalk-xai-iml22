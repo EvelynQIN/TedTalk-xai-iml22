{
 "cells": [
  {
   "cell_type": "code",
   "execution_count": 1,
   "metadata": {},
   "outputs": [],
   "source": [
    "import pandas as pd\n",
    "import numpy as np\n",
    "import re\n",
    "import networkx as nx\n",
    "import itertools\n",
    "import matplotlib.pyplot as plt"
   ]
  },
  {
   "cell_type": "code",
   "execution_count": 2,
   "metadata": {},
   "outputs": [],
   "source": [
    "# read the datasets\n",
    "talks =  pd.read_json(\"Datasets/talks.json\")\n",
    "users = pd.read_json(\"Datasets/users.json\")"
   ]
  },
  {
   "cell_type": "code",
   "execution_count": 3,
   "metadata": {},
   "outputs": [
    {
     "data": {
      "text/html": [
       "<div>\n",
       "<style scoped>\n",
       "    .dataframe tbody tr th:only-of-type {\n",
       "        vertical-align: middle;\n",
       "    }\n",
       "\n",
       "    .dataframe tbody tr th {\n",
       "        vertical-align: top;\n",
       "    }\n",
       "\n",
       "    .dataframe thead th {\n",
       "        text-align: right;\n",
       "    }\n",
       "</style>\n",
       "<table border=\"1\" class=\"dataframe\">\n",
       "  <thead>\n",
       "    <tr style=\"text-align: right;\">\n",
       "      <th></th>\n",
       "      <th>id</th>\n",
       "      <th>film_date</th>\n",
       "      <th>publish_date</th>\n",
       "      <th>title</th>\n",
       "      <th>speaker</th>\n",
       "      <th>ted_event</th>\n",
       "      <th>description</th>\n",
       "      <th>related_tags</th>\n",
       "      <th>related_themes</th>\n",
       "      <th>related_videos</th>\n",
       "      <th>views</th>\n",
       "      <th>comments</th>\n",
       "      <th>transcript</th>\n",
       "      <th>url</th>\n",
       "    </tr>\n",
       "  </thead>\n",
       "  <tbody>\n",
       "    <tr>\n",
       "      <th>0</th>\n",
       "      <td>062dd0f773cd5999a09714a371e1f8017163e2a1</td>\n",
       "      <td>May 2012</td>\n",
       "      <td>Sep 2012</td>\n",
       "      <td>[Scott Fraser: Why eyewitnesses get it wrong]</td>\n",
       "      <td>Scott Fraser</td>\n",
       "      <td>TEDxUSC</td>\n",
       "      <td>[Scott Fraser studies how humans remember crim...</td>\n",
       "      <td>[Crime, Global issues, Government, Law, Memory...</td>\n",
       "      <td>[How the Mind Works]</td>\n",
       "      <td>[Bryan Stevenson: We need to talk about an inj...</td>\n",
       "      <td>21025</td>\n",
       "      <td>[{'user_id': '3b6dbeb2375b632ad5f9dc9d15a9aa94...</td>\n",
       "      <td>The murder happened a little over 21 years ago...</td>\n",
       "      <td>http://www.ted.com/talks/scott_fraser_the_prob...</td>\n",
       "    </tr>\n",
       "    <tr>\n",
       "      <th>1</th>\n",
       "      <td>62f6479a5eca39725798b1ee300bd8d5de3a4ae3</td>\n",
       "      <td>Dec 2011</td>\n",
       "      <td>Jun 2012</td>\n",
       "      <td>[Jon Nguyen: Tour the solar system from home]</td>\n",
       "      <td>Jon Nguyen</td>\n",
       "      <td>TEDxSanDiego</td>\n",
       "      <td>[Want to navigate the solar system without hav...</td>\n",
       "      <td>[Demo, Exploration, Science, Software, Space, ...</td>\n",
       "      <td>[Peering into Space]</td>\n",
       "      <td>[Carter Emmart demos a 3D atlas of the universe ]</td>\n",
       "      <td>220795</td>\n",
       "      <td>[{'user_id': '7cb24a132dd5f8fd6c2d0c8e248b9708...</td>\n",
       "      <td>As a kid, I was fascinated with all things air...</td>\n",
       "      <td>http://www.ted.com/talks/jon_nguyen_tour_the_s...</td>\n",
       "    </tr>\n",
       "    <tr>\n",
       "      <th>2</th>\n",
       "      <td>b35c0cd294cd10748019833cafa625fc33487065</td>\n",
       "      <td>Apr 2012</td>\n",
       "      <td>Jun 2012</td>\n",
       "      <td>[Wolfgang Kessling: How to air-condition outdo...</td>\n",
       "      <td>Wolfgang Kessling</td>\n",
       "      <td>TEDxSummit</td>\n",
       "      <td>[During the hot summer months, watching an out...</td>\n",
       "      <td>[Entertainment, Environment, Global issues, In...</td>\n",
       "      <td>[Design That Matters, Presentation Innovation,...</td>\n",
       "      <td>[Peter Diamandis: Abundance is our future, Amy...</td>\n",
       "      <td>230813</td>\n",
       "      <td>[{'user_id': '658b3da5aefb6a2ede53560d8ea4d960...</td>\n",
       "      <td>Good evening. We are in this wonderful open-ai...</td>\n",
       "      <td>http://www.ted.com/talks/wolfgang_kessling_how...</td>\n",
       "    </tr>\n",
       "    <tr>\n",
       "      <th>3</th>\n",
       "      <td>0fa6bca242ccb96697e8de570882c6b38746591a</td>\n",
       "      <td>Apr 2012</td>\n",
       "      <td>Jun 2012</td>\n",
       "      <td>[Rives: Reinventing the encyclopedia game]</td>\n",
       "      <td>Rives</td>\n",
       "      <td>TEDxSummit</td>\n",
       "      <td>[Prompted by the Encyclopaedia Britannica endi...</td>\n",
       "      <td>[Entertainment, Internet, Science, Web, Wikipe...</td>\n",
       "      <td>[Master Storytellers, How We Learn]</td>\n",
       "      <td>[Rives: A story of mixed emoticons, A.J. Jacob...</td>\n",
       "      <td>200203</td>\n",
       "      <td>[{'user_id': '75adf5391c6cd74a190e5259e6caafeb...</td>\n",
       "      <td>So, last month, the Encyclopaedia Britannica a...</td>\n",
       "      <td>http://www.ted.com/talks/rives_reinventing_the...</td>\n",
       "    </tr>\n",
       "    <tr>\n",
       "      <th>4</th>\n",
       "      <td>41db62481aeb978fd13f591755b596ff0616be70</td>\n",
       "      <td>Jun 2012</td>\n",
       "      <td>Jun 2012</td>\n",
       "      <td>[Massimo Banzi: How Arduino is open-sourcing i...</td>\n",
       "      <td>Massimo Banzi</td>\n",
       "      <td>TEDGlobal 2012</td>\n",
       "      <td>[Massimo Banzi helped invent the Arduino, a ti...</td>\n",
       "      <td>[Creativity, Open-source, Robots, Technology]</td>\n",
       "      <td>[Tales of Invention, Art Unusual]</td>\n",
       "      <td>[Kate Hartman: The art of wearable communicati...</td>\n",
       "      <td>358737</td>\n",
       "      <td>[{'user_id': '520b4877fcc4047921af318801a168d3...</td>\n",
       "      <td>So a few weeks ago, a friend of mine gave this...</td>\n",
       "      <td>http://www.ted.com/talks/massimo_banzi_how_ard...</td>\n",
       "    </tr>\n",
       "  </tbody>\n",
       "</table>\n",
       "</div>"
      ],
      "text/plain": [
       "                                         id film_date publish_date  \\\n",
       "0  062dd0f773cd5999a09714a371e1f8017163e2a1  May 2012     Sep 2012   \n",
       "1  62f6479a5eca39725798b1ee300bd8d5de3a4ae3  Dec 2011     Jun 2012   \n",
       "2  b35c0cd294cd10748019833cafa625fc33487065  Apr 2012     Jun 2012   \n",
       "3  0fa6bca242ccb96697e8de570882c6b38746591a  Apr 2012     Jun 2012   \n",
       "4  41db62481aeb978fd13f591755b596ff0616be70  Jun 2012     Jun 2012   \n",
       "\n",
       "                                               title            speaker  \\\n",
       "0      [Scott Fraser: Why eyewitnesses get it wrong]       Scott Fraser   \n",
       "1      [Jon Nguyen: Tour the solar system from home]         Jon Nguyen   \n",
       "2  [Wolfgang Kessling: How to air-condition outdo...  Wolfgang Kessling   \n",
       "3         [Rives: Reinventing the encyclopedia game]              Rives   \n",
       "4  [Massimo Banzi: How Arduino is open-sourcing i...      Massimo Banzi   \n",
       "\n",
       "        ted_event                                        description  \\\n",
       "0         TEDxUSC  [Scott Fraser studies how humans remember crim...   \n",
       "1    TEDxSanDiego  [Want to navigate the solar system without hav...   \n",
       "2      TEDxSummit  [During the hot summer months, watching an out...   \n",
       "3      TEDxSummit  [Prompted by the Encyclopaedia Britannica endi...   \n",
       "4  TEDGlobal 2012  [Massimo Banzi helped invent the Arduino, a ti...   \n",
       "\n",
       "                                        related_tags  \\\n",
       "0  [Crime, Global issues, Government, Law, Memory...   \n",
       "1  [Demo, Exploration, Science, Software, Space, ...   \n",
       "2  [Entertainment, Environment, Global issues, In...   \n",
       "3  [Entertainment, Internet, Science, Web, Wikipe...   \n",
       "4      [Creativity, Open-source, Robots, Technology]   \n",
       "\n",
       "                                      related_themes  \\\n",
       "0                               [How the Mind Works]   \n",
       "1                               [Peering into Space]   \n",
       "2  [Design That Matters, Presentation Innovation,...   \n",
       "3                [Master Storytellers, How We Learn]   \n",
       "4                  [Tales of Invention, Art Unusual]   \n",
       "\n",
       "                                      related_videos   views  \\\n",
       "0  [Bryan Stevenson: We need to talk about an inj...   21025   \n",
       "1  [Carter Emmart demos a 3D atlas of the universe ]  220795   \n",
       "2  [Peter Diamandis: Abundance is our future, Amy...  230813   \n",
       "3  [Rives: A story of mixed emoticons, A.J. Jacob...  200203   \n",
       "4  [Kate Hartman: The art of wearable communicati...  358737   \n",
       "\n",
       "                                            comments  \\\n",
       "0  [{'user_id': '3b6dbeb2375b632ad5f9dc9d15a9aa94...   \n",
       "1  [{'user_id': '7cb24a132dd5f8fd6c2d0c8e248b9708...   \n",
       "2  [{'user_id': '658b3da5aefb6a2ede53560d8ea4d960...   \n",
       "3  [{'user_id': '75adf5391c6cd74a190e5259e6caafeb...   \n",
       "4  [{'user_id': '520b4877fcc4047921af318801a168d3...   \n",
       "\n",
       "                                          transcript  \\\n",
       "0  The murder happened a little over 21 years ago...   \n",
       "1  As a kid, I was fascinated with all things air...   \n",
       "2  Good evening. We are in this wonderful open-ai...   \n",
       "3  So, last month, the Encyclopaedia Britannica a...   \n",
       "4  So a few weeks ago, a friend of mine gave this...   \n",
       "\n",
       "                                                 url  \n",
       "0  http://www.ted.com/talks/scott_fraser_the_prob...  \n",
       "1  http://www.ted.com/talks/jon_nguyen_tour_the_s...  \n",
       "2  http://www.ted.com/talks/wolfgang_kessling_how...  \n",
       "3  http://www.ted.com/talks/rives_reinventing_the...  \n",
       "4  http://www.ted.com/talks/massimo_banzi_how_ard...  "
      ]
     },
     "execution_count": 3,
     "metadata": {},
     "output_type": "execute_result"
    }
   ],
   "source": [
    "talks.head()"
   ]
  },
  {
   "cell_type": "code",
   "execution_count": 4,
   "metadata": {},
   "outputs": [
    {
     "data": {
      "text/html": [
       "<div>\n",
       "<style scoped>\n",
       "    .dataframe tbody tr th:only-of-type {\n",
       "        vertical-align: middle;\n",
       "    }\n",
       "\n",
       "    .dataframe tbody tr th {\n",
       "        vertical-align: top;\n",
       "    }\n",
       "\n",
       "    .dataframe thead th {\n",
       "        text-align: right;\n",
       "    }\n",
       "</style>\n",
       "<table border=\"1\" class=\"dataframe\">\n",
       "  <thead>\n",
       "    <tr style=\"text-align: right;\">\n",
       "      <th></th>\n",
       "      <th>user_id</th>\n",
       "      <th>favorites</th>\n",
       "    </tr>\n",
       "  </thead>\n",
       "  <tbody>\n",
       "    <tr>\n",
       "      <th>0</th>\n",
       "      <td>e57cec766488c5a72d02dd6bcdbd1d67201ddc7f</td>\n",
       "      <td>[Adam Ostrow: After your final status update, ...</td>\n",
       "    </tr>\n",
       "    <tr>\n",
       "      <th>1</th>\n",
       "      <td>4c3e7cf74b5c596cf234e9055a436a23d32cb1b7</td>\n",
       "      <td>[David S. Rose on pitching to VCs, Elizabeth G...</td>\n",
       "    </tr>\n",
       "    <tr>\n",
       "      <th>2</th>\n",
       "      <td>394723943ac2a83beb72c860d77a8eca22087185</td>\n",
       "      <td>[Temple Grandin: The world needs all kinds of ...</td>\n",
       "    </tr>\n",
       "    <tr>\n",
       "      <th>3</th>\n",
       "      <td>a2715f02d578bfc667e0fb4691f5a5b1572b9b2e</td>\n",
       "      <td>[Richard St. John's 8 secrets of success, Geve...</td>\n",
       "    </tr>\n",
       "    <tr>\n",
       "      <th>4</th>\n",
       "      <td>2c0871325f6f3e10bdeee9059d7a2e745929f702</td>\n",
       "      <td>[Richard St. John: \"Success is a continuous jo...</td>\n",
       "    </tr>\n",
       "  </tbody>\n",
       "</table>\n",
       "</div>"
      ],
      "text/plain": [
       "                                    user_id  \\\n",
       "0  e57cec766488c5a72d02dd6bcdbd1d67201ddc7f   \n",
       "1  4c3e7cf74b5c596cf234e9055a436a23d32cb1b7   \n",
       "2  394723943ac2a83beb72c860d77a8eca22087185   \n",
       "3  a2715f02d578bfc667e0fb4691f5a5b1572b9b2e   \n",
       "4  2c0871325f6f3e10bdeee9059d7a2e745929f702   \n",
       "\n",
       "                                           favorites  \n",
       "0  [Adam Ostrow: After your final status update, ...  \n",
       "1  [David S. Rose on pitching to VCs, Elizabeth G...  \n",
       "2  [Temple Grandin: The world needs all kinds of ...  \n",
       "3  [Richard St. John's 8 secrets of success, Geve...  \n",
       "4  [Richard St. John: \"Success is a continuous jo...  "
      ]
     },
     "execution_count": 4,
     "metadata": {},
     "output_type": "execute_result"
    }
   ],
   "source": [
    "users.head()"
   ]
  },
  {
   "cell_type": "code",
   "execution_count": 6,
   "metadata": {},
   "outputs": [
    {
     "data": {
      "text/plain": [
       "True"
      ]
     },
     "execution_count": 6,
     "metadata": {},
     "output_type": "execute_result"
    }
   ],
   "source": [
    "type(talks['title'][0]) is list"
   ]
  },
  {
   "cell_type": "code",
   "execution_count": 16,
   "metadata": {},
   "outputs": [],
   "source": [
    "# remove array brackets from talks given column names\n",
    "def remove_col_array(df, col_name):\n",
    "\n",
    "    temp = []\n",
    "    for i in range(df.shape[0]):\n",
    "        col_value = df[col_name][i][0] if type(df[col_name][i]) is list else df[col_name][i]\n",
    "        temp.append(col_value)\n",
    "    df[col_name] = temp\n",
    "    return df"
   ]
  },
  {
   "cell_type": "code",
   "execution_count": 17,
   "metadata": {},
   "outputs": [],
   "source": [
    "talks = remove_col_array(talks, 'title')\n",
    "talks = remove_col_array(talks, 'description')"
   ]
  },
  {
   "cell_type": "code",
   "execution_count": 18,
   "metadata": {},
   "outputs": [
    {
     "data": {
      "text/plain": [
       "1424"
      ]
     },
     "execution_count": 18,
     "metadata": {},
     "output_type": "execute_result"
    }
   ],
   "source": [
    "# check duplicated talks with same titles but different ids\n",
    "\n",
    "len(talks['title'].unique())"
   ]
  },
  {
   "cell_type": "code",
   "execution_count": 19,
   "metadata": {},
   "outputs": [
    {
     "data": {
      "text/plain": [
       "1203"
      ]
     },
     "execution_count": 19,
     "metadata": {},
     "output_type": "execute_result"
    }
   ],
   "source": [
    "len(talks['id'].unique())"
   ]
  },
  {
   "cell_type": "code",
   "execution_count": 20,
   "metadata": {},
   "outputs": [
    {
     "data": {
      "text/plain": [
       "2352"
      ]
     },
     "execution_count": 20,
     "metadata": {},
     "output_type": "execute_result"
    }
   ],
   "source": [
    "len(talks)"
   ]
  },
  {
   "cell_type": "markdown",
   "metadata": {},
   "source": [
    "### Extract features from the talks dataset over time and tags"
   ]
  },
  {
   "cell_type": "code",
   "execution_count": 96,
   "metadata": {},
   "outputs": [],
   "source": [
    "talks.drop(talks.loc[talks['publish_date']==str('')].index, inplace=True) # drop 22 rows where publish date is missing\n",
    "talks.reset_index(drop=True, inplace=True)\n",
    "\n",
    "# convert date string to datetime format\n",
    "talks['publish_date']=list(pd.to_datetime(talks['publish_date']))\n",
    "talks['publish_date']=talks['publish_date'].dt.to_period('M')\n",
    "\n",
    "# count number of words in the transcript as 'duration'\n",
    "talks['word_cnt']=list(talks['transcript'].apply(lambda x: len(re.findall(r'\\w+', x))))\n",
    "\n",
    "# drop comments & transcripts\n",
    "talks=talks.drop(columns=['transcript','comments'])"
   ]
  },
  {
   "cell_type": "code",
   "execution_count": 83,
   "metadata": {},
   "outputs": [],
   "source": [
    "def split_row(data, column):\n",
    "    \"\"\"split related tags as seperate rows\n",
    "\n",
    "    :param data: the dataframe\n",
    "    :param column: column name to split\n",
    "    :type data: pandas.core.frame.DataFrame\n",
    "    :type column: str\n",
    "    \"\"\"\n",
    "    row_len = list(map(len, data[column].values))\n",
    "    rows = []\n",
    "    for i in data.columns:\n",
    "        if i == column:\n",
    "            row = np.concatenate(data[i].values)\n",
    "        else:\n",
    "            row = np.repeat(data[i].values, row_len)\n",
    "        rows.append(row)\n",
    "    return pd.DataFrame(np.dstack(tuple(rows))[0], columns=data.columns)"
   ]
  },
  {
   "cell_type": "code",
   "execution_count": 101,
   "metadata": {},
   "outputs": [],
   "source": [
    "# split related_tags into seperate rows\n",
    "talk_tags=split_row(talks, column='related_tags')"
   ]
  },
  {
   "cell_type": "code",
   "execution_count": 100,
   "metadata": {},
   "outputs": [
    {
     "data": {
      "text/plain": [
       "array([Period('2006-06', 'M'), Period('2006-07', 'M'),\n",
       "       Period('2006-08', 'M'), Period('2006-09', 'M'),\n",
       "       Period('2006-10', 'M'), Period('2006-11', 'M'),\n",
       "       Period('2006-12', 'M'), Period('2007-01', 'M'),\n",
       "       Period('2007-02', 'M'), Period('2007-04', 'M'),\n",
       "       Period('2007-05', 'M'), Period('2007-06', 'M'),\n",
       "       Period('2007-07', 'M'), Period('2007-08', 'M'),\n",
       "       Period('2007-09', 'M'), Period('2007-10', 'M'),\n",
       "       Period('2007-11', 'M'), Period('2007-12', 'M'),\n",
       "       Period('2008-01', 'M'), Period('2008-02', 'M'),\n",
       "       Period('2008-03', 'M'), Period('2008-04', 'M'),\n",
       "       Period('2008-05', 'M'), Period('2008-06', 'M'),\n",
       "       Period('2008-07', 'M'), Period('2008-08', 'M'),\n",
       "       Period('2008-09', 'M'), Period('2008-10', 'M'),\n",
       "       Period('2008-11', 'M'), Period('2008-12', 'M'),\n",
       "       Period('2009-01', 'M'), Period('2009-02', 'M'),\n",
       "       Period('2009-03', 'M'), Period('2009-04', 'M'),\n",
       "       Period('2009-05', 'M'), Period('2009-06', 'M'),\n",
       "       Period('2009-07', 'M'), Period('2009-08', 'M'),\n",
       "       Period('2009-09', 'M'), Period('2009-10', 'M'),\n",
       "       Period('2009-11', 'M'), Period('2009-12', 'M'),\n",
       "       Period('2010-01', 'M'), Period('2010-02', 'M'),\n",
       "       Period('2010-03', 'M'), Period('2010-04', 'M'),\n",
       "       Period('2010-05', 'M'), Period('2010-06', 'M'),\n",
       "       Period('2010-07', 'M'), Period('2010-08', 'M'),\n",
       "       Period('2010-09', 'M'), Period('2010-10', 'M'),\n",
       "       Period('2010-11', 'M'), Period('2010-12', 'M'),\n",
       "       Period('2011-01', 'M'), Period('2011-02', 'M'),\n",
       "       Period('2011-03', 'M'), Period('2011-04', 'M'),\n",
       "       Period('2011-05', 'M'), Period('2011-06', 'M'),\n",
       "       Period('2011-07', 'M'), Period('2011-08', 'M'),\n",
       "       Period('2011-09', 'M'), Period('2011-10', 'M'),\n",
       "       Period('2011-11', 'M'), Period('2011-12', 'M'),\n",
       "       Period('2012-01', 'M'), Period('2012-02', 'M'),\n",
       "       Period('2012-03', 'M'), Period('2012-04', 'M'),\n",
       "       Period('2012-05', 'M'), Period('2012-06', 'M'),\n",
       "       Period('2012-07', 'M'), Period('2012-08', 'M'),\n",
       "       Period('2012-09', 'M')], dtype=object)"
      ]
     },
     "execution_count": 100,
     "metadata": {},
     "output_type": "execute_result"
    }
   ],
   "source": [
    "np.sort(talks['publish_date'].unique())"
   ]
  },
  {
   "cell_type": "code",
   "execution_count": 103,
   "metadata": {},
   "outputs": [],
   "source": [
    "talks_feature_cnt=talk_tags.drop(columns=['film_date','title','ted_event','description','related_themes','related_videos','url'])"
   ]
  },
  {
   "cell_type": "code",
   "execution_count": 110,
   "metadata": {},
   "outputs": [],
   "source": [
    "feature_cnt=talks_feature_cnt.groupby(by=['publish_date','related_tags'],as_index=False).agg(\n",
    "    view_cnt=pd.NamedAgg(column=\"views\", aggfunc=\"sum\"),\n",
    "    word_cnt=pd.NamedAgg(column=\"word_cnt\", aggfunc=\"sum\"),\n",
    "    publish_cnt=pd.NamedAgg(column=\"word_cnt\", aggfunc=\"count\")\n",
    ")"
   ]
  },
  {
   "cell_type": "code",
   "execution_count": 113,
   "metadata": {},
   "outputs": [],
   "source": [
    "feature_cnt['view_per_video']=np.ceil(feature_cnt['view_cnt']/feature_cnt['publish_cnt'])"
   ]
  },
  {
   "cell_type": "code",
   "execution_count": 114,
   "metadata": {},
   "outputs": [
    {
     "data": {
      "text/html": [
       "<div>\n",
       "<style scoped>\n",
       "    .dataframe tbody tr th:only-of-type {\n",
       "        vertical-align: middle;\n",
       "    }\n",
       "\n",
       "    .dataframe tbody tr th {\n",
       "        vertical-align: top;\n",
       "    }\n",
       "\n",
       "    .dataframe thead th {\n",
       "        text-align: right;\n",
       "    }\n",
       "</style>\n",
       "<table border=\"1\" class=\"dataframe\">\n",
       "  <thead>\n",
       "    <tr style=\"text-align: right;\">\n",
       "      <th></th>\n",
       "      <th>publish_date</th>\n",
       "      <th>related_tags</th>\n",
       "      <th>view_cnt</th>\n",
       "      <th>word_cnt</th>\n",
       "      <th>publish_cnt</th>\n",
       "      <th>view_per_video</th>\n",
       "    </tr>\n",
       "  </thead>\n",
       "  <tbody>\n",
       "    <tr>\n",
       "      <th>0</th>\n",
       "      <td>2006-06</td>\n",
       "      <td>Activism</td>\n",
       "      <td>1052541</td>\n",
       "      <td>6344</td>\n",
       "      <td>2</td>\n",
       "      <td>526271.0</td>\n",
       "    </tr>\n",
       "    <tr>\n",
       "      <th>1</th>\n",
       "      <td>2006-06</td>\n",
       "      <td>Africa</td>\n",
       "      <td>8380681</td>\n",
       "      <td>6506</td>\n",
       "      <td>2</td>\n",
       "      <td>4190341.0</td>\n",
       "    </tr>\n",
       "    <tr>\n",
       "      <th>2</th>\n",
       "      <td>2006-06</td>\n",
       "      <td>Alternative energy</td>\n",
       "      <td>2918261</td>\n",
       "      <td>4392</td>\n",
       "      <td>2</td>\n",
       "      <td>1459131.0</td>\n",
       "    </tr>\n",
       "    <tr>\n",
       "      <th>3</th>\n",
       "      <td>2006-06</td>\n",
       "      <td>Asia</td>\n",
       "      <td>8380681</td>\n",
       "      <td>6506</td>\n",
       "      <td>2</td>\n",
       "      <td>4190341.0</td>\n",
       "    </tr>\n",
       "    <tr>\n",
       "      <th>4</th>\n",
       "      <td>2006-06</td>\n",
       "      <td>Business</td>\n",
       "      <td>5389526</td>\n",
       "      <td>16634</td>\n",
       "      <td>4</td>\n",
       "      <td>1347382.0</td>\n",
       "    </tr>\n",
       "  </tbody>\n",
       "</table>\n",
       "</div>"
      ],
      "text/plain": [
       "  publish_date        related_tags  view_cnt  word_cnt  publish_cnt  \\\n",
       "0      2006-06            Activism   1052541      6344            2   \n",
       "1      2006-06              Africa   8380681      6506            2   \n",
       "2      2006-06  Alternative energy   2918261      4392            2   \n",
       "3      2006-06                Asia   8380681      6506            2   \n",
       "4      2006-06            Business   5389526     16634            4   \n",
       "\n",
       "   view_per_video  \n",
       "0        526271.0  \n",
       "1       4190341.0  \n",
       "2       1459131.0  \n",
       "3       4190341.0  \n",
       "4       1347382.0  "
      ]
     },
     "execution_count": 114,
     "metadata": {},
     "output_type": "execute_result"
    }
   ],
   "source": [
    "feature_cnt.head()"
   ]
  },
  {
   "cell_type": "code",
   "execution_count": 120,
   "metadata": {},
   "outputs": [
    {
     "data": {
      "text/html": [
       "<div>\n",
       "<style scoped>\n",
       "    .dataframe tbody tr th:only-of-type {\n",
       "        vertical-align: middle;\n",
       "    }\n",
       "\n",
       "    .dataframe tbody tr th {\n",
       "        vertical-align: top;\n",
       "    }\n",
       "\n",
       "    .dataframe thead th {\n",
       "        text-align: right;\n",
       "    }\n",
       "</style>\n",
       "<table border=\"1\" class=\"dataframe\">\n",
       "  <thead>\n",
       "    <tr style=\"text-align: right;\">\n",
       "      <th></th>\n",
       "      <th>view_cnt</th>\n",
       "      <th>word_cnt</th>\n",
       "      <th>publish_cnt</th>\n",
       "      <th>view_per_video</th>\n",
       "    </tr>\n",
       "  </thead>\n",
       "  <tbody>\n",
       "    <tr>\n",
       "      <th>count</th>\n",
       "      <td>4.081000e+03</td>\n",
       "      <td>4081.000000</td>\n",
       "      <td>4081.000000</td>\n",
       "      <td>4.081000e+03</td>\n",
       "    </tr>\n",
       "    <tr>\n",
       "      <th>mean</th>\n",
       "      <td>1.851855e+06</td>\n",
       "      <td>7703.489341</td>\n",
       "      <td>3.312178</td>\n",
       "      <td>5.709088e+05</td>\n",
       "    </tr>\n",
       "    <tr>\n",
       "      <th>std</th>\n",
       "      <td>2.524340e+06</td>\n",
       "      <td>7733.225622</td>\n",
       "      <td>2.912207</td>\n",
       "      <td>7.585756e+05</td>\n",
       "    </tr>\n",
       "    <tr>\n",
       "      <th>min</th>\n",
       "      <td>2.102500e+04</td>\n",
       "      <td>0.000000</td>\n",
       "      <td>1.000000</td>\n",
       "      <td>2.102500e+04</td>\n",
       "    </tr>\n",
       "    <tr>\n",
       "      <th>25%</th>\n",
       "      <td>5.403450e+05</td>\n",
       "      <td>3122.000000</td>\n",
       "      <td>2.000000</td>\n",
       "      <td>2.527540e+05</td>\n",
       "    </tr>\n",
       "    <tr>\n",
       "      <th>50%</th>\n",
       "      <td>9.743810e+05</td>\n",
       "      <td>5724.000000</td>\n",
       "      <td>2.000000</td>\n",
       "      <td>3.825910e+05</td>\n",
       "    </tr>\n",
       "    <tr>\n",
       "      <th>75%</th>\n",
       "      <td>2.034498e+06</td>\n",
       "      <td>8817.000000</td>\n",
       "      <td>4.000000</td>\n",
       "      <td>6.063950e+05</td>\n",
       "    </tr>\n",
       "    <tr>\n",
       "      <th>max</th>\n",
       "      <td>2.946980e+07</td>\n",
       "      <td>107293.000000</td>\n",
       "      <td>36.000000</td>\n",
       "      <td>1.110728e+07</td>\n",
       "    </tr>\n",
       "  </tbody>\n",
       "</table>\n",
       "</div>"
      ],
      "text/plain": [
       "           view_cnt       word_cnt  publish_cnt  view_per_video\n",
       "count  4.081000e+03    4081.000000  4081.000000    4.081000e+03\n",
       "mean   1.851855e+06    7703.489341     3.312178    5.709088e+05\n",
       "std    2.524340e+06    7733.225622     2.912207    7.585756e+05\n",
       "min    2.102500e+04       0.000000     1.000000    2.102500e+04\n",
       "25%    5.403450e+05    3122.000000     2.000000    2.527540e+05\n",
       "50%    9.743810e+05    5724.000000     2.000000    3.825910e+05\n",
       "75%    2.034498e+06    8817.000000     4.000000    6.063950e+05\n",
       "max    2.946980e+07  107293.000000    36.000000    1.110728e+07"
      ]
     },
     "execution_count": 120,
     "metadata": {},
     "output_type": "execute_result"
    }
   ],
   "source": [
    "feature_cnt.describe()"
   ]
  },
  {
   "cell_type": "code",
   "execution_count": 191,
   "metadata": {},
   "outputs": [],
   "source": [
    "feature_cnt.to_csv('talks_feature_cnt.csv',index=False)"
   ]
  },
  {
   "cell_type": "code",
   "execution_count": 121,
   "metadata": {},
   "outputs": [
    {
     "data": {
      "text/plain": [
       "220"
      ]
     },
     "execution_count": 121,
     "metadata": {},
     "output_type": "execute_result"
    }
   ],
   "source": [
    "len(feature_cnt[feature_cnt['view_per_video']>600000]['related_tags'].unique())"
   ]
  },
  {
   "cell_type": "markdown",
   "metadata": {},
   "source": [
    "### Construct topic derivation network"
   ]
  },
  {
   "cell_type": "code",
   "execution_count": 170,
   "metadata": {},
   "outputs": [],
   "source": [
    "# add edges to the network, where node i -> node j means topic i derives topic j\n",
    "def topic_derivation_network(df,nodes):\n",
    "    \"\"\"\n",
    "    Construct the topic derivation network\n",
    "    :df: the dataframe contains the publish date and related tags (as list)\n",
    "    :nodes: all the tags form the node set\n",
    "    \"\"\"\n",
    "    \n",
    "    # Construct an empty network and add all the nodes\n",
    "    G=nx.DiGraph()\n",
    "    G.add_nodes_from(nodes)\n",
    "    p_dates = list(np.sort(df['publish_date'].unique()))\n",
    "\n",
    "    tags_month = df.groupby(by=['publish_date']).agg(\"sum\")\n",
    "\n",
    "    # Contruct the edge set\n",
    "    edges = set()\n",
    "    prev_tags = set()\n",
    "    \n",
    "    for d in p_dates:    \n",
    "        if d == '2006-06':\n",
    "            prev_tags.update(tags_month.loc[d]['related_tags'])\n",
    "            continue\n",
    "        current_df = df[df['publish_date'] == d].reset_index()\n",
    "        for i in range(current_df.shape[0]):\n",
    "            source = []\n",
    "            target = []\n",
    "            for j in current_df.loc[i]['related_tags']:\n",
    "                if j in prev_tags:\n",
    "                    source.append(j)\n",
    "                else:\n",
    "                    target.append(j)\n",
    "            for elem in itertools.product(source,target):\n",
    "                edges.add(elem)\n",
    "        prev_tags.update(tags_month.loc[d]['related_tags'])\n",
    "    \n",
    "    G.add_edges_from(list(edges))\n",
    "\n",
    "    return G    "
   ]
  },
  {
   "cell_type": "code",
   "execution_count": 171,
   "metadata": {},
   "outputs": [],
   "source": [
    "# all tags form the node set of this network\n",
    "nodes = list(feature_cnt['related_tags'].unique())\n",
    "\n",
    "talks_tag_time=talks[['publish_date','related_tags']]\n",
    "\n",
    "topic_net = topic_derivation_network(talks_tag_time,nodes)"
   ]
  },
  {
   "cell_type": "code",
   "execution_count": 185,
   "metadata": {},
   "outputs": [
    {
     "data": {
      "text/plain": [
       "1677"
      ]
     },
     "execution_count": 185,
     "metadata": {},
     "output_type": "execute_result"
    }
   ],
   "source": [
    "len(topic_net.edges())"
   ]
  },
  {
   "cell_type": "code",
   "execution_count": 198,
   "metadata": {},
   "outputs": [],
   "source": [
    "# compute the earliest publish date of a tag as one attibute of the node\n",
    "tags_time=talk_tags[['related_tags','publish_date']]\n",
    "earliest_date=tags_time.groupby(by=['related_tags'],as_index=False).agg('min')\n",
    "\n",
    "# export nodes and edges as CSV files\n",
    "nodes_df = earliest_date.rename(columns={\"related_tags\": \"Name\", \"publish_date\": \"Earliest_date\"})\n",
    "nodes_df.to_csv('topic_net_nodes.csv',index=True)\n"
   ]
  },
  {
   "cell_type": "code",
   "execution_count": 199,
   "metadata": {},
   "outputs": [
    {
     "data": {
      "text/html": [
       "<div>\n",
       "<style scoped>\n",
       "    .dataframe tbody tr th:only-of-type {\n",
       "        vertical-align: middle;\n",
       "    }\n",
       "\n",
       "    .dataframe tbody tr th {\n",
       "        vertical-align: top;\n",
       "    }\n",
       "\n",
       "    .dataframe thead th {\n",
       "        text-align: right;\n",
       "    }\n",
       "</style>\n",
       "<table border=\"1\" class=\"dataframe\">\n",
       "  <thead>\n",
       "    <tr style=\"text-align: right;\">\n",
       "      <th></th>\n",
       "      <th>Name</th>\n",
       "      <th>Earliest_date</th>\n",
       "    </tr>\n",
       "  </thead>\n",
       "  <tbody>\n",
       "    <tr>\n",
       "      <th>0</th>\n",
       "      <td>AI</td>\n",
       "      <td>2007-05</td>\n",
       "    </tr>\n",
       "    <tr>\n",
       "      <th>1</th>\n",
       "      <td>AIDS</td>\n",
       "      <td>2006-10</td>\n",
       "    </tr>\n",
       "    <tr>\n",
       "      <th>2</th>\n",
       "      <td>Activism</td>\n",
       "      <td>2006-06</td>\n",
       "    </tr>\n",
       "    <tr>\n",
       "      <th>3</th>\n",
       "      <td>Adventure</td>\n",
       "      <td>2007-06</td>\n",
       "    </tr>\n",
       "    <tr>\n",
       "      <th>4</th>\n",
       "      <td>Advertising</td>\n",
       "      <td>2009-10</td>\n",
       "    </tr>\n",
       "  </tbody>\n",
       "</table>\n",
       "</div>"
      ],
      "text/plain": [
       "          Name Earliest_date\n",
       "0           AI       2007-05\n",
       "1         AIDS       2006-10\n",
       "2     Activism       2006-06\n",
       "3    Adventure       2007-06\n",
       "4  Advertising       2009-10"
      ]
     },
     "execution_count": 199,
     "metadata": {},
     "output_type": "execute_result"
    }
   ],
   "source": [
    "nodes_df.head()"
   ]
  },
  {
   "cell_type": "code",
   "execution_count": 201,
   "metadata": {},
   "outputs": [],
   "source": [
    "# convert each edge into node ID list\n",
    "nodes_list=list(nodes_df['Name'])\n",
    "node_dict=dict()\n",
    "for i,n in enumerate(nodes_list):\n",
    "    node_dict[n] = i\n",
    "\n",
    "edges=[]\n",
    "for s,t in topic_net.edges():\n",
    "    edges.append([node_dict[s],node_dict[t]])\n",
    "\n",
    "edges_df=pd.DataFrame(edges,columns=['source','target'])\n",
    "edges_df.to_csv('topic_net_edges.csv',index=False)"
   ]
  },
  {
   "cell_type": "code",
   "execution_count": 206,
   "metadata": {},
   "outputs": [],
   "source": [
    "# analyze high out degree nodes as popular topics\n",
    "out_deg_cnt=[]\n",
    "for i,j in topic_net.out_degree():\n",
    "    out_deg_cnt.append([i,j])\n",
    "out_deg_df=pd.DataFrame(out_deg_cnt,columns=['tag','out_deg'])"
   ]
  },
  {
   "cell_type": "code",
   "execution_count": 208,
   "metadata": {},
   "outputs": [],
   "source": [
    "out_deg_df=out_deg_df.sort_values(by=['out_deg'],ascending=False)\n",
    "out_deg_df.to_csv('topic_net_deg_cnt.csv',index=False)"
   ]
  }
 ],
 "metadata": {
  "interpreter": {
   "hash": "7c3de026aa0deba29f587c3b3fdc98c8d52b1123a61c41868ecd1d17bda52b85"
  },
  "kernelspec": {
   "display_name": "Python 3.9.7 ('base')",
   "language": "python",
   "name": "python3"
  },
  "language_info": {
   "codemirror_mode": {
    "name": "ipython",
    "version": 3
   },
   "file_extension": ".py",
   "mimetype": "text/x-python",
   "name": "python",
   "nbconvert_exporter": "python",
   "pygments_lexer": "ipython3",
   "version": "3.9.7"
  },
  "orig_nbformat": 4
 },
 "nbformat": 4,
 "nbformat_minor": 2
}
